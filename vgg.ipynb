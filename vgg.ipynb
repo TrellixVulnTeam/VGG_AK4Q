{
 "cells": [
  {
   "cell_type": "code",
   "execution_count": null,
   "metadata": {},
   "outputs": [],
   "source": [
    "from vgg import VGG\n",
    "import cifar10_utils\n",
    "import cifar100_utils\n",
    "import pickle\n",
    "\n",
    "import warnings\n",
    "warnings.filterwarnings('ignore')"
   ]
  },
  {
   "cell_type": "markdown",
   "metadata": {},
   "source": [
    "# Train on CIFAR-10 dataset"
   ]
  },
  {
   "cell_type": "markdown",
   "metadata": {},
   "source": [
    "### load the dataset"
   ]
  },
  {
   "cell_type": "code",
   "execution_count": null,
   "metadata": {},
   "outputs": [],
   "source": [
    "cifar10_dataset_folder_path = 'cifar-10-batches-py'"
   ]
  },
  {
   "cell_type": "code",
   "execution_count": null,
   "metadata": {},
   "outputs": [],
   "source": [
    "cifar10_utils.download(dataset_folder_path=cifar10_dataset_folder_path)\n",
    "cifar10_utils.preprocess_and_save_data(cifar10_dataset_folder_path)\n",
    "\n",
    "print('load features and labels for valid dataset...')\n",
    "valid_features, valid_labels = pickle.load(open('cifar10_preprocess_validation.p', mode='rb'))\n",
    "\n",
    "print('converting valid images to fit into imagenet size...')\n",
    "tmpValidFeatures = cifar10_utils.convert_to_imagenet_size(valid_features[:1000])"
   ]
  },
  {
   "cell_type": "markdown",
   "metadata": {},
   "source": [
    "### Model Type = A"
   ]
  },
  {
   "cell_type": "code",
   "execution_count": null,
   "metadata": {},
   "outputs": [],
   "source": [
    "save_model_path = './cifar10_vgg_A'\n",
    "\n",
    "vggNet = VGG(dataset='cifar10', learning_rate=0.0001)\n",
    "vggNet.train(1, 64, (tmpValidFeatures, valid_labels), save_model_path)"
   ]
  },
  {
   "cell_type": "markdown",
   "metadata": {},
   "source": [
    "### Model Type = A-LRN"
   ]
  },
  {
   "cell_type": "code",
   "execution_count": null,
   "metadata": {},
   "outputs": [],
   "source": [
    "save_model_path = './cifar10_vgg_A_LRN'\n",
    "\n",
    "vggNet = VGG(dataset='cifar10', model_type='A-LRN', learning_rate=0.0001)\n",
    "vggNet.train(1, 64, (tmpValidFeatures, valid_labels), save_model_path)"
   ]
  },
  {
   "cell_type": "markdown",
   "metadata": {},
   "source": [
    "### Model Type = B"
   ]
  },
  {
   "cell_type": "code",
   "execution_count": null,
   "metadata": {},
   "outputs": [],
   "source": [
    "save_model_path = './cifar10_vgg_B'\n",
    "\n",
    "vggNet = VGG(dataset='cifar10', model_type='B', learning_rate=0.0001)\n",
    "vggNet.train(1, 64, (tmpValidFeatures, valid_labels), save_model_path)"
   ]
  },
  {
   "cell_type": "markdown",
   "metadata": {},
   "source": [
    "### Model Type = C"
   ]
  },
  {
   "cell_type": "code",
   "execution_count": null,
   "metadata": {},
   "outputs": [],
   "source": [
    "save_model_path = './cifar10_vgg_C'\n",
    "\n",
    "vggNet = VGG(dataset='cifar10', model_type='C', learning_rate=0.0001)\n",
    "vggNet.train(1, 64, (tmpValidFeatures, valid_labels), save_model_path)"
   ]
  },
  {
   "cell_type": "markdown",
   "metadata": {},
   "source": [
    "### Model Type = D"
   ]
  },
  {
   "cell_type": "code",
   "execution_count": null,
   "metadata": {},
   "outputs": [],
   "source": [
    "save_model_path = './cifar10_vgg_D'\n",
    "\n",
    "vggNet = VGG(dataset='cifar10', model_type='D', learning_rate=0.0001)\n",
    "vggNet.train(1, 64, (tmpValidFeatures, valid_labels), save_model_path)"
   ]
  },
  {
   "cell_type": "markdown",
   "metadata": {},
   "source": [
    "### Model Type = E"
   ]
  },
  {
   "cell_type": "code",
   "execution_count": null,
   "metadata": {},
   "outputs": [],
   "source": [
    "save_model_path = './cifar10_vgg_E'\n",
    "\n",
    "vggNet = VGG(dataset='cifar10', model_type='E', learning_rate=0.0001)\n",
    "vggNet.train(1, 64, (tmpValidFeatures, valid_labels), save_model_path)"
   ]
  },
  {
   "cell_type": "markdown",
   "metadata": {},
   "source": [
    "# Train on CIFAR-100 dataset"
   ]
  },
  {
   "cell_type": "markdown",
   "metadata": {},
   "source": [
    "### load the dataset"
   ]
  },
  {
   "cell_type": "code",
   "execution_count": null,
   "metadata": {},
   "outputs": [],
   "source": [
    "cifar100_dataset_folder_path = 'cifar-100-python'"
   ]
  },
  {
   "cell_type": "code",
   "execution_count": null,
   "metadata": {},
   "outputs": [],
   "source": [
    "cifar100_utils.download(dataset_folder_path=cifar100_dataset_folder_path)\n",
    "cifar100_utils.preprocess_and_save_data_cifar100(cifar100_dataset_folder_path)\n",
    "\n",
    "print('load features and labels for valid dataset...')\n",
    "valid_features, valid_labels = pickle.load(open('cifar100_preprocess_validation.p', mode='rb'))\n",
    "\n",
    "print('converting valid images to fit into imagenet size...')\n",
    "tmpValidFeatures = cifar100_utils.convert_to_imagenet_size(valid_features[:1000])"
   ]
  },
  {
   "cell_type": "markdown",
   "metadata": {},
   "source": [
    "### Model Type = A"
   ]
  },
  {
   "cell_type": "code",
   "execution_count": null,
   "metadata": {},
   "outputs": [],
   "source": [
    "save_model_path = './cifar100_vgg_A'\n",
    "\n",
    "vggNet = VGG(dataset='cifar100', learning_rate=0.0001)\n",
    "vggNet.train(1, 64, (tmpValidFeatures, valid_labels), save_model_path)"
   ]
  },
  {
   "cell_type": "markdown",
   "metadata": {},
   "source": [
    "### Model Type = A-LRN"
   ]
  },
  {
   "cell_type": "code",
   "execution_count": null,
   "metadata": {},
   "outputs": [],
   "source": [
    "save_model_path = './cifar100_vgg_A_LRN'\n",
    "\n",
    "vggNet = VGG(dataset='cifar100', model_type='A-LRN', learning_rate=0.0001)\n",
    "vggNet.train(1, 64, (tmpValidFeatures, valid_labels), save_model_path)"
   ]
  },
  {
   "cell_type": "markdown",
   "metadata": {},
   "source": [
    "### Model Type = B"
   ]
  },
  {
   "cell_type": "code",
   "execution_count": null,
   "metadata": {},
   "outputs": [],
   "source": [
    "save_model_path = './cifar100_vgg_B'\n",
    "\n",
    "vggNet = VGG(dataset='cifar100', model_type='B', learning_rate=0.0001)\n",
    "vggNet.train(1, 64, (tmpValidFeatures, valid_labels), save_model_path)"
   ]
  },
  {
   "cell_type": "markdown",
   "metadata": {},
   "source": [
    "### Model Type = C"
   ]
  },
  {
   "cell_type": "code",
   "execution_count": null,
   "metadata": {},
   "outputs": [],
   "source": [
    "save_model_path = './cifar100_vgg_C'\n",
    "\n",
    "vggNet = VGG(dataset='cifar100', model_type='C', learning_rate=0.0001)\n",
    "vggNet.train(1, 64, (tmpValidFeatures, valid_labels), save_model_path)"
   ]
  },
  {
   "cell_type": "markdown",
   "metadata": {},
   "source": [
    "### Model Type = D"
   ]
  },
  {
   "cell_type": "code",
   "execution_count": null,
   "metadata": {},
   "outputs": [],
   "source": [
    "save_model_path = './cifar100_vgg_D'\n",
    "\n",
    "vggNet = VGG(dataset='cifar100', model_type='D', learning_rate=0.0001)\n",
    "vggNet.train(1, 64, (tmpValidFeatures, valid_labels), save_model_path)"
   ]
  },
  {
   "cell_type": "markdown",
   "metadata": {},
   "source": [
    "### Model Type = E"
   ]
  },
  {
   "cell_type": "code",
   "execution_count": null,
   "metadata": {},
   "outputs": [],
   "source": [
    "save_model_path = './cifar100_vgg_E'\n",
    "\n",
    "vggNet = VGG(dataset='cifar100', model_type='E', learning_rate=0.0001)\n",
    "vggNet.train(1, 64, (tmpValidFeatures, valid_labels), save_model_path)"
   ]
  }
 ],
 "metadata": {
  "kernelspec": {
   "display_name": "Python 3",
   "language": "python",
   "name": "python3"
  },
  "language_info": {
   "codemirror_mode": {
    "name": "ipython",
    "version": 3
   },
   "file_extension": ".py",
   "mimetype": "text/x-python",
   "name": "python",
   "nbconvert_exporter": "python",
   "pygments_lexer": "ipython3",
   "version": "3.6.5"
  }
 },
 "nbformat": 4,
 "nbformat_minor": 2
}
